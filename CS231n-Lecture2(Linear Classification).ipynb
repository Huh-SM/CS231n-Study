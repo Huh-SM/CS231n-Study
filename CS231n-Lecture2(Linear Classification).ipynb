{
 "cells": [
  {
   "cell_type": "markdown",
   "metadata": {},
   "source": [
    "# CS231n - Lecture 2\n",
    "\n",
    "## Concept\n",
    "- find $f(x)$ which has parameter(or weight)$w$\n",
    "$$\\text{Input} \\rightarrow f(x, W) = Wx \\rightarrow  \\text{output score}$$\n",
    "- Example :\n",
    "$$ \n",
    "\\begin{bmatrix}\n",
    "    0.2 & -0.5 & 0.1 & 2.0 \\\\\n",
    "    1.5 & 1.3 & 2.1 & 0.0 \\\\\n",
    "    0.0 & 0.25 & 0.2 & -0.3 \n",
    "\\end{bmatrix}\\begin{bmatrix}\n",
    "    56 \\\\\n",
    "    231 \\\\\n",
    "    24 \\\\\n",
    "    2\n",
    "\\end{bmatrix} + \\begin{bmatrix}\n",
    "    1.1 \\\\\n",
    "    3.2 \\\\\n",
    "    -1.2 \\\\\n",
    "\\end{bmatrix} = \\begin{bmatrix}\n",
    "    -96.8 & \\text{(Cat Score)} \\\\\n",
    "    437.9 & \\text{(Dog Score)} \\\\\n",
    "    61.95 & \\text{(Ship Score)}\n",
    "\\end{bmatrix}  \n",
    "\\\\\n",
    "\\\\\n",
    "W(weight)X(input) + b(bias) = Score\n",
    "$$"
   ]
  },
  {
   "cell_type": "markdown",
   "metadata": {},
   "source": [
    "- (생각할 것) 보통 확률로 Classification을 수행하는데, score를 이용함으로서 classification 한다. (?)\n",
    "- (생각할 것) bias라 함은 error와 다른 개념? 일반적인 선형회귀에서 $\\beta_0$ 와 같은 역할을 하는 것인가?\n",
    "\n",
    "- Linear Classification은 기본적으로 Decision Boundary를 만들어서 Classification 하는 문제와 같음. 각각 하나의 linear boundary를 가진다고 보면 됨. 위의 예시에서는 세개의 boundary가 생김\n",
    "- 이러한 Linear Classification 을 쌓아올리면 Neural Network 를 생성할 수 있음.\n",
    "- e.g. 이미지와 그 설명이 함께 제공되는 데이터라면 이미지는 CNN으로, 설명은 RNN으로 처리하여 Neural Network를 만들수도 있음.\n",
    "- 이러한 Linear Model 의 문제는 역시 선형관계만 발견이 가능하다는 점으로, 비선형 관계에 대한 탐색은 불가능함.\n",
    "- 그렇다면 $ W,b $를 찾는 방식? with Loss Function, Optimization, Stochastic Gradient Descent"
   ]
  }
 ],
 "metadata": {
  "kernelspec": {
   "display_name": "Python 3",
   "language": "python",
   "name": "python3"
  },
  "language_info": {
   "codemirror_mode": {
    "name": "ipython",
    "version": 3
   },
   "file_extension": ".py",
   "mimetype": "text/x-python",
   "name": "python",
   "nbconvert_exporter": "python",
   "pygments_lexer": "ipython3",
   "version": "3.6.5"
  }
 },
 "nbformat": 4,
 "nbformat_minor": 2
}
